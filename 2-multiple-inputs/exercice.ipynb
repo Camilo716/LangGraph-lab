{
 "cells": [
  {
   "cell_type": "code",
   "execution_count": 4,
   "id": "afdddf8c",
   "metadata": {},
   "outputs": [
    {
     "data": {
      "text/plain": [
       "'Hi Jack Sparrow, your answer is: 24'"
      ]
     },
     "execution_count": 4,
     "metadata": {},
     "output_type": "execute_result"
    }
   ],
   "source": [
    "from typing import List, TypedDict, Union\n",
    "from langgraph.graph import StateGraph\n",
    "import math\n",
    "\n",
    "class AgentState(TypedDict):\n",
    "    name: str\n",
    "    values: List[int]\n",
    "    operation: str\n",
    "    result: str\n",
    "\n",
    "def process_node(state: AgentState) -> AgentState:\n",
    "    \"\"\"Test test test\"\"\"\n",
    "    operation = state['operation']\n",
    "    name = state['name']\n",
    "    values = state['values']\n",
    "    answer = 0\n",
    "\n",
    "    if operation == '*':\n",
    "        answer = math.prod(values)\n",
    "    elif operation == '+':\n",
    "        answer = sum(values)\n",
    "    \n",
    "    state['result'] = f'Hi {name}, your answer is: {answer}'\n",
    "\n",
    "    return state\n",
    "\n",
    "\n",
    "graph = StateGraph(AgentState)\n",
    "\n",
    "graph.add_node('processor', process_node)\n",
    "\n",
    "graph.set_entry_point('processor')\n",
    "graph.set_finish_point('processor')\n",
    "\n",
    "app = graph.compile()\n",
    "\n",
    "answer = app.invoke({ 'name': 'Jack Sparrow', 'values':[1, 2, 3, 4], 'operation':'*'})\n",
    "answer['result']"
   ]
  }
 ],
 "metadata": {
  "kernelspec": {
   "display_name": ".venv",
   "language": "python",
   "name": "python3"
  },
  "language_info": {
   "codemirror_mode": {
    "name": "ipython",
    "version": 3
   },
   "file_extension": ".py",
   "mimetype": "text/x-python",
   "name": "python",
   "nbconvert_exporter": "python",
   "pygments_lexer": "ipython3",
   "version": "3.11.2"
  }
 },
 "nbformat": 4,
 "nbformat_minor": 5
}
