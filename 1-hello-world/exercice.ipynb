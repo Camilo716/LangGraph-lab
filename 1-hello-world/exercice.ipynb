{
 "cells": [
  {
   "cell_type": "code",
   "execution_count": null,
   "id": "ba1f6c56",
   "metadata": {},
   "outputs": [
    {
     "data": {
      "text/plain": [
       "\"Bob, you're doingan amazing job learning LangGraph\""
      ]
     },
     "execution_count": 1,
     "metadata": {},
     "output_type": "execute_result"
    }
   ],
   "source": [
    "from typing import TypedDict\n",
    "from langgraph.graph import StateGraph \n",
    "\n",
    "\n",
    "class ComplimentAgentState(TypedDict):\n",
    "    message: str\n",
    "\n",
    "def flatterer_node(state: ComplimentAgentState) -> ComplimentAgentState:\n",
    "    \"\"\"Note that adds a compliment to the message\"\"\"\n",
    "\n",
    "    state['message'] = f\"{state['message']}, you're doing\" \\\n",
    "     + \" an amazing job learning LangGraph\" \n",
    "    \n",
    "    return state\n",
    "\n",
    "graph = StateGraph(ComplimentAgentState)\n",
    "\n",
    "graph.add_node(\"flatterer\", flatterer_node)\n",
    "\n",
    "graph.set_entry_point(\"flatterer\")\n",
    "graph.set_finish_point(\"flatterer\")\n",
    "\n",
    "app = graph.compile()\n",
    "\n",
    "result = app.invoke(ComplimentAgentState(message='Bob'))\n",
    "result['message']"
   ]
  }
 ],
 "metadata": {
  "kernelspec": {
   "display_name": ".venv",
   "language": "python",
   "name": "python3"
  },
  "language_info": {
   "codemirror_mode": {
    "name": "ipython",
    "version": 3
   },
   "file_extension": ".py",
   "mimetype": "text/x-python",
   "name": "python",
   "nbconvert_exporter": "python",
   "pygments_lexer": "ipython3",
   "version": "3.11.2"
  }
 },
 "nbformat": 4,
 "nbformat_minor": 5
}
